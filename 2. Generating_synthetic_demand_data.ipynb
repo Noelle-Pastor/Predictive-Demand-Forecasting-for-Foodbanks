{
  "nbformat": 4,
  "nbformat_minor": 0,
  "metadata": {
    "colab": {
      "provenance": [],
      "name": "Generating-synthetic-demand-data.ipynb",
      "authorship_tag": "ABX9TyO1nqqqFOIMlr0u/onaTklP",
      "include_colab_link": true
    },
    "kernelspec": {
      "name": "python3",
      "display_name": "Python 3"
    },
    "language_info": {
      "name": "python"
    }
  },
  "cells": [
    {
      "cell_type": "markdown",
      "metadata": {
        "id": "view-in-github",
        "colab_type": "text"
      },
      "source": [
        "<a href=\"https://colab.research.google.com/github/Noelle-Pastor/Predictive-Demand-Forecasting-for-Foodbanks/blob/main/Generating_synthetic_demand_data.ipynb\" target=\"_parent\"><img src=\"https://colab.research.google.com/assets/colab-badge.svg\" alt=\"Open In Colab\"/></a>"
      ]
    },
    {
      "cell_type": "markdown",
      "source": [
        "# **Generating Synthetic Food Bank Demand Data**\n",
        "### Layering in multipliers for season, time of month and time of week.\n",
        "\n",
        "##### **Fields Generated:**  Date | Client_ID | Household_Size | Pounds_Distributed | Zip Code"
      ],
      "metadata": {
        "id": "wytqC5reAhtn"
      }
    },
    {
      "cell_type": "code",
      "source": [
        "import pandas as pd\n",
        "import numpy as np\n",
        "import random\n",
        "import datetime\n",
        "import uuid"
      ],
      "metadata": {
        "id": "nbLbvycKCO5U"
      },
      "execution_count": null,
      "outputs": []
    },
    {
      "cell_type": "markdown",
      "source": [
        "##Set Parameters"
      ],
      "metadata": {
        "id": "SdTDPqK_DiRo"
      }
    },
    {
      "cell_type": "code",
      "source": [
        "START_DATE = \"2020-01-01\"\n",
        "END_DATE = \"2025-09-01\"\n",
        "BASE_AVG_VISITS = 80\n",
        "GROWTH_RATE = 0.05\n",
        "\n",
        "# Probability distributions for household size and zip code\n",
        "HOUSEHOLD_SIZE_DIST = {1 : 0.15, 2 : 0.15, 3 : 0.20, 4 : 0.25, 5 : 0.18, 6 : 0.04, 7 : 0.02, 8 : 0.01}\n",
        "DALLAS_ZIP_DIST = {\"75217\": 0.20, \"75227\": 0.15, \"75211\": 0.12, \"75243\": 0.10, \"75228\": 0.08, \"Other\": 0.35}"
      ],
      "metadata": {
        "id": "UixrnlBACVZY"
      },
      "execution_count": null,
      "outputs": []
    },
    {
      "cell_type": "code",
      "source": [
        "#Get list with every date between START_DATE and END_DATE, inclusive\n",
        "DATE_RANGE = pd.to_datetime(pd.date_range(START_DATE, END_DATE))\n",
        "\n",
        "NUM_DAYS = len(DATE_RANGE)"
      ],
      "metadata": {
        "id": "75dYuA25DEnC"
      },
      "execution_count": null,
      "outputs": []
    },
    {
      "cell_type": "markdown",
      "source": [
        "##Generate Daily Visit Counts"
      ],
      "metadata": {
        "id": "OaSpoMkvD-K2"
      }
    },
    {
      "cell_type": "code",
      "source": [
        "#Increasing demand over time\n",
        "visits_growth_trend = np.linspace(0, NUM_DAYS*(GROWTH_RATE/365), NUM_DAYS)"
      ],
      "metadata": {
        "collapsed": true,
        "id": "FhBiMKuxEDHE"
      },
      "execution_count": null,
      "outputs": []
    },
    {
      "cell_type": "code",
      "source": [
        "daily_visit_counts = []\n",
        "\n",
        "for i, date in enumerate(DATE_RANGE):\n",
        "\n",
        "  #Get base # of visits for the day accounting for increase in demand over time\n",
        "  base = BASE_AVG_VISITS * (1 + visits_growth_trend[i])\n",
        "\n",
        "  #Yearly seaonality using sin and cos waves; seaonsal increases during summer and holidays\n",
        "  seasonal_multiplier = (1 +\n",
        "    0.17 * np.sin(2 * np.pi * date.dayofyear/365.25 - np.pi/2) + #summer\n",
        "    0.12 * np.cos(2 * np.pi * date.dayofyear/365.25)             #holidays\n",
        "    )\n",
        "\n",
        "  #Monthly 20%-50% spike food banks see in the last 10 days of the month\n",
        "  monthly_multiplier = np.random.normal(1.35, .15) if date.day > 20 else 1.0\n",
        "\n",
        "  #Weekly spike on Fri/Sat, dips on Sunday bc closed\n",
        "  if date.weekday() in [4, 5]: #Friday, Saurday\n",
        "    weekly_multiplier = np.random.normal(1.35, .1)\n",
        "  elif date.weekday() == 6: #Sunday assuming closed\n",
        "    weekly_multiplier = 0.0\n",
        "  else:\n",
        "    weekly_multiplier = 1.0\n",
        "\n",
        "  #Combine multipliers\n",
        "  num_visits = base * seasonal_multiplier * monthly_multiplier * weekly_multiplier\n",
        "\n",
        "  #Random \"noise\" +- 8%\n",
        "  num_visits *= np.random.normal(1, .08)\n",
        "\n",
        "  daily_visit_counts.append(round(num_visits))\n"
      ],
      "metadata": {
        "id": "-r1cpfmoEMkU"
      },
      "execution_count": null,
      "outputs": []
    },
    {
      "cell_type": "markdown",
      "source": [
        "##Generate a Visit Log"
      ],
      "metadata": {
        "id": "q8gVr_aKFrr3"
      }
    },
    {
      "cell_type": "code",
      "source": [
        "all_visits = []\n",
        "\n",
        "for date, visits in zip(DATE_RANGE, daily_visit_counts):\n",
        "\n",
        "  #generate all records for day\n",
        "  for i in range(visits):\n",
        "\n",
        "    #Generate ClientID\n",
        "    client_id = str(uuid.uuid4()) #not considering new or returning client. Client ID won't be used in analysis.\n",
        "\n",
        "    #Generate Household_Size using probability distribution\n",
        "    household_size = np.random.choice(\n",
        "            list(HOUSEHOLD_SIZE_DIST.keys()),\n",
        "            p = list(HOUSEHOLD_SIZE_DIST.values()))\n",
        "\n",
        "    zip_code = np.random.choice(\n",
        "                list(DALLAS_ZIP_DIST.keys()),\n",
        "                p = list(DALLAS_ZIP_DIST.values()))\n",
        "\n",
        "    pounds_distributed = round(household_size * 12.5 + np.random.normal(0, 5))\n",
        "\n",
        "    all_visits.append({\n",
        "           \"Visit_Date\" : date.date(),\n",
        "           \"Client_ID\" : client_id,\n",
        "           \"Household_Size\" : household_size,\n",
        "           \"Zip_Code\" : zip_code,\n",
        "           \"Pounds_Distributed\" : pounds_distributed})"
      ],
      "metadata": {
        "id": "6RPVUQKcGL_F"
      },
      "execution_count": null,
      "outputs": []
    },
    {
      "cell_type": "markdown",
      "source": [
        "##Create Dataframe from **all_visits** list"
      ],
      "metadata": {
        "id": "j55A84ZkDWkX"
      }
    },
    {
      "cell_type": "code",
      "source": [
        "df_visits = pd.DataFrame(all_visits)"
      ],
      "metadata": {
        "id": "mB4XMH38DlNS"
      },
      "execution_count": null,
      "outputs": []
    },
    {
      "cell_type": "code",
      "source": [
        "df_visits.head()"
      ],
      "metadata": {
        "colab": {
          "base_uri": "https://localhost:8080/",
          "height": 206
        },
        "id": "G2gpR7RzDw6F",
        "outputId": "a5e48835-eb9d-4c98-82f2-bc4515dfb644"
      },
      "execution_count": null,
      "outputs": [
        {
          "output_type": "execute_result",
          "data": {
            "text/plain": [
              "   Visit_Date                             Client_ID  Household_Size Zip_Code  \\\n",
              "0  2020-01-01  7ccd97f5-9b0d-4f98-8577-64ea0e5914f1               5    75227   \n",
              "1  2020-01-01  06c8d9f1-a19e-4320-a093-ceff246d8c53               3    Other   \n",
              "2  2020-01-01  2ed3b4d1-66ae-4afb-82bf-fa467f85ba31               2    75228   \n",
              "3  2020-01-01  9b5e8848-55ce-4a3f-b0ac-85a5946f4a0e               4    75217   \n",
              "4  2020-01-01  8b0e3036-4cf8-47a9-9496-70ffe8c84dbe               5    75228   \n",
              "\n",
              "   Pounds_Distributed  \n",
              "0                  65  \n",
              "1                  32  \n",
              "2                  24  \n",
              "3                  52  \n",
              "4                  64  "
            ],
            "text/html": [
              "\n",
              "  <div id=\"df-b88b41d1-10d6-4128-afba-ddf405fc5428\" class=\"colab-df-container\">\n",
              "    <div>\n",
              "<style scoped>\n",
              "    .dataframe tbody tr th:only-of-type {\n",
              "        vertical-align: middle;\n",
              "    }\n",
              "\n",
              "    .dataframe tbody tr th {\n",
              "        vertical-align: top;\n",
              "    }\n",
              "\n",
              "    .dataframe thead th {\n",
              "        text-align: right;\n",
              "    }\n",
              "</style>\n",
              "<table border=\"1\" class=\"dataframe\">\n",
              "  <thead>\n",
              "    <tr style=\"text-align: right;\">\n",
              "      <th></th>\n",
              "      <th>Visit_Date</th>\n",
              "      <th>Client_ID</th>\n",
              "      <th>Household_Size</th>\n",
              "      <th>Zip_Code</th>\n",
              "      <th>Pounds_Distributed</th>\n",
              "    </tr>\n",
              "  </thead>\n",
              "  <tbody>\n",
              "    <tr>\n",
              "      <th>0</th>\n",
              "      <td>2020-01-01</td>\n",
              "      <td>7ccd97f5-9b0d-4f98-8577-64ea0e5914f1</td>\n",
              "      <td>5</td>\n",
              "      <td>75227</td>\n",
              "      <td>65</td>\n",
              "    </tr>\n",
              "    <tr>\n",
              "      <th>1</th>\n",
              "      <td>2020-01-01</td>\n",
              "      <td>06c8d9f1-a19e-4320-a093-ceff246d8c53</td>\n",
              "      <td>3</td>\n",
              "      <td>Other</td>\n",
              "      <td>32</td>\n",
              "    </tr>\n",
              "    <tr>\n",
              "      <th>2</th>\n",
              "      <td>2020-01-01</td>\n",
              "      <td>2ed3b4d1-66ae-4afb-82bf-fa467f85ba31</td>\n",
              "      <td>2</td>\n",
              "      <td>75228</td>\n",
              "      <td>24</td>\n",
              "    </tr>\n",
              "    <tr>\n",
              "      <th>3</th>\n",
              "      <td>2020-01-01</td>\n",
              "      <td>9b5e8848-55ce-4a3f-b0ac-85a5946f4a0e</td>\n",
              "      <td>4</td>\n",
              "      <td>75217</td>\n",
              "      <td>52</td>\n",
              "    </tr>\n",
              "    <tr>\n",
              "      <th>4</th>\n",
              "      <td>2020-01-01</td>\n",
              "      <td>8b0e3036-4cf8-47a9-9496-70ffe8c84dbe</td>\n",
              "      <td>5</td>\n",
              "      <td>75228</td>\n",
              "      <td>64</td>\n",
              "    </tr>\n",
              "  </tbody>\n",
              "</table>\n",
              "</div>\n",
              "    <div class=\"colab-df-buttons\">\n",
              "\n",
              "  <div class=\"colab-df-container\">\n",
              "    <button class=\"colab-df-convert\" onclick=\"convertToInteractive('df-b88b41d1-10d6-4128-afba-ddf405fc5428')\"\n",
              "            title=\"Convert this dataframe to an interactive table.\"\n",
              "            style=\"display:none;\">\n",
              "\n",
              "  <svg xmlns=\"http://www.w3.org/2000/svg\" height=\"24px\" viewBox=\"0 -960 960 960\">\n",
              "    <path d=\"M120-120v-720h720v720H120Zm60-500h600v-160H180v160Zm220 220h160v-160H400v160Zm0 220h160v-160H400v160ZM180-400h160v-160H180v160Zm440 0h160v-160H620v160ZM180-180h160v-160H180v160Zm440 0h160v-160H620v160Z\"/>\n",
              "  </svg>\n",
              "    </button>\n",
              "\n",
              "  <style>\n",
              "    .colab-df-container {\n",
              "      display:flex;\n",
              "      gap: 12px;\n",
              "    }\n",
              "\n",
              "    .colab-df-convert {\n",
              "      background-color: #E8F0FE;\n",
              "      border: none;\n",
              "      border-radius: 50%;\n",
              "      cursor: pointer;\n",
              "      display: none;\n",
              "      fill: #1967D2;\n",
              "      height: 32px;\n",
              "      padding: 0 0 0 0;\n",
              "      width: 32px;\n",
              "    }\n",
              "\n",
              "    .colab-df-convert:hover {\n",
              "      background-color: #E2EBFA;\n",
              "      box-shadow: 0px 1px 2px rgba(60, 64, 67, 0.3), 0px 1px 3px 1px rgba(60, 64, 67, 0.15);\n",
              "      fill: #174EA6;\n",
              "    }\n",
              "\n",
              "    .colab-df-buttons div {\n",
              "      margin-bottom: 4px;\n",
              "    }\n",
              "\n",
              "    [theme=dark] .colab-df-convert {\n",
              "      background-color: #3B4455;\n",
              "      fill: #D2E3FC;\n",
              "    }\n",
              "\n",
              "    [theme=dark] .colab-df-convert:hover {\n",
              "      background-color: #434B5C;\n",
              "      box-shadow: 0px 1px 3px 1px rgba(0, 0, 0, 0.15);\n",
              "      filter: drop-shadow(0px 1px 2px rgba(0, 0, 0, 0.3));\n",
              "      fill: #FFFFFF;\n",
              "    }\n",
              "  </style>\n",
              "\n",
              "    <script>\n",
              "      const buttonEl =\n",
              "        document.querySelector('#df-b88b41d1-10d6-4128-afba-ddf405fc5428 button.colab-df-convert');\n",
              "      buttonEl.style.display =\n",
              "        google.colab.kernel.accessAllowed ? 'block' : 'none';\n",
              "\n",
              "      async function convertToInteractive(key) {\n",
              "        const element = document.querySelector('#df-b88b41d1-10d6-4128-afba-ddf405fc5428');\n",
              "        const dataTable =\n",
              "          await google.colab.kernel.invokeFunction('convertToInteractive',\n",
              "                                                    [key], {});\n",
              "        if (!dataTable) return;\n",
              "\n",
              "        const docLinkHtml = 'Like what you see? Visit the ' +\n",
              "          '<a target=\"_blank\" href=https://colab.research.google.com/notebooks/data_table.ipynb>data table notebook</a>'\n",
              "          + ' to learn more about interactive tables.';\n",
              "        element.innerHTML = '';\n",
              "        dataTable['output_type'] = 'display_data';\n",
              "        await google.colab.output.renderOutput(dataTable, element);\n",
              "        const docLink = document.createElement('div');\n",
              "        docLink.innerHTML = docLinkHtml;\n",
              "        element.appendChild(docLink);\n",
              "      }\n",
              "    </script>\n",
              "  </div>\n",
              "\n",
              "\n",
              "    <div id=\"df-1089d4f6-ad21-4ebc-86ae-bcdbfd6e8bb9\">\n",
              "      <button class=\"colab-df-quickchart\" onclick=\"quickchart('df-1089d4f6-ad21-4ebc-86ae-bcdbfd6e8bb9')\"\n",
              "                title=\"Suggest charts\"\n",
              "                style=\"display:none;\">\n",
              "\n",
              "<svg xmlns=\"http://www.w3.org/2000/svg\" height=\"24px\"viewBox=\"0 0 24 24\"\n",
              "     width=\"24px\">\n",
              "    <g>\n",
              "        <path d=\"M19 3H5c-1.1 0-2 .9-2 2v14c0 1.1.9 2 2 2h14c1.1 0 2-.9 2-2V5c0-1.1-.9-2-2-2zM9 17H7v-7h2v7zm4 0h-2V7h2v10zm4 0h-2v-4h2v4z\"/>\n",
              "    </g>\n",
              "</svg>\n",
              "      </button>\n",
              "\n",
              "<style>\n",
              "  .colab-df-quickchart {\n",
              "      --bg-color: #E8F0FE;\n",
              "      --fill-color: #1967D2;\n",
              "      --hover-bg-color: #E2EBFA;\n",
              "      --hover-fill-color: #174EA6;\n",
              "      --disabled-fill-color: #AAA;\n",
              "      --disabled-bg-color: #DDD;\n",
              "  }\n",
              "\n",
              "  [theme=dark] .colab-df-quickchart {\n",
              "      --bg-color: #3B4455;\n",
              "      --fill-color: #D2E3FC;\n",
              "      --hover-bg-color: #434B5C;\n",
              "      --hover-fill-color: #FFFFFF;\n",
              "      --disabled-bg-color: #3B4455;\n",
              "      --disabled-fill-color: #666;\n",
              "  }\n",
              "\n",
              "  .colab-df-quickchart {\n",
              "    background-color: var(--bg-color);\n",
              "    border: none;\n",
              "    border-radius: 50%;\n",
              "    cursor: pointer;\n",
              "    display: none;\n",
              "    fill: var(--fill-color);\n",
              "    height: 32px;\n",
              "    padding: 0;\n",
              "    width: 32px;\n",
              "  }\n",
              "\n",
              "  .colab-df-quickchart:hover {\n",
              "    background-color: var(--hover-bg-color);\n",
              "    box-shadow: 0 1px 2px rgba(60, 64, 67, 0.3), 0 1px 3px 1px rgba(60, 64, 67, 0.15);\n",
              "    fill: var(--button-hover-fill-color);\n",
              "  }\n",
              "\n",
              "  .colab-df-quickchart-complete:disabled,\n",
              "  .colab-df-quickchart-complete:disabled:hover {\n",
              "    background-color: var(--disabled-bg-color);\n",
              "    fill: var(--disabled-fill-color);\n",
              "    box-shadow: none;\n",
              "  }\n",
              "\n",
              "  .colab-df-spinner {\n",
              "    border: 2px solid var(--fill-color);\n",
              "    border-color: transparent;\n",
              "    border-bottom-color: var(--fill-color);\n",
              "    animation:\n",
              "      spin 1s steps(1) infinite;\n",
              "  }\n",
              "\n",
              "  @keyframes spin {\n",
              "    0% {\n",
              "      border-color: transparent;\n",
              "      border-bottom-color: var(--fill-color);\n",
              "      border-left-color: var(--fill-color);\n",
              "    }\n",
              "    20% {\n",
              "      border-color: transparent;\n",
              "      border-left-color: var(--fill-color);\n",
              "      border-top-color: var(--fill-color);\n",
              "    }\n",
              "    30% {\n",
              "      border-color: transparent;\n",
              "      border-left-color: var(--fill-color);\n",
              "      border-top-color: var(--fill-color);\n",
              "      border-right-color: var(--fill-color);\n",
              "    }\n",
              "    40% {\n",
              "      border-color: transparent;\n",
              "      border-right-color: var(--fill-color);\n",
              "      border-top-color: var(--fill-color);\n",
              "    }\n",
              "    60% {\n",
              "      border-color: transparent;\n",
              "      border-right-color: var(--fill-color);\n",
              "    }\n",
              "    80% {\n",
              "      border-color: transparent;\n",
              "      border-right-color: var(--fill-color);\n",
              "      border-bottom-color: var(--fill-color);\n",
              "    }\n",
              "    90% {\n",
              "      border-color: transparent;\n",
              "      border-bottom-color: var(--fill-color);\n",
              "    }\n",
              "  }\n",
              "</style>\n",
              "\n",
              "      <script>\n",
              "        async function quickchart(key) {\n",
              "          const quickchartButtonEl =\n",
              "            document.querySelector('#' + key + ' button');\n",
              "          quickchartButtonEl.disabled = true;  // To prevent multiple clicks.\n",
              "          quickchartButtonEl.classList.add('colab-df-spinner');\n",
              "          try {\n",
              "            const charts = await google.colab.kernel.invokeFunction(\n",
              "                'suggestCharts', [key], {});\n",
              "          } catch (error) {\n",
              "            console.error('Error during call to suggestCharts:', error);\n",
              "          }\n",
              "          quickchartButtonEl.classList.remove('colab-df-spinner');\n",
              "          quickchartButtonEl.classList.add('colab-df-quickchart-complete');\n",
              "        }\n",
              "        (() => {\n",
              "          let quickchartButtonEl =\n",
              "            document.querySelector('#df-1089d4f6-ad21-4ebc-86ae-bcdbfd6e8bb9 button');\n",
              "          quickchartButtonEl.style.display =\n",
              "            google.colab.kernel.accessAllowed ? 'block' : 'none';\n",
              "        })();\n",
              "      </script>\n",
              "    </div>\n",
              "\n",
              "    </div>\n",
              "  </div>\n"
            ],
            "application/vnd.google.colaboratory.intrinsic+json": {
              "type": "dataframe",
              "variable_name": "df_visits"
            }
          },
          "metadata": {},
          "execution_count": 10
        }
      ]
    },
    {
      "cell_type": "markdown",
      "source": [
        "## Save as a CSV file"
      ],
      "metadata": {
        "id": "jdlIz3DED6Aa"
      }
    },
    {
      "cell_type": "code",
      "source": [
        "df_visits.to_csv(\"Synthetic_Food_Bank_Visits.csv\", index=False)"
      ],
      "metadata": {
        "id": "Bu3KOH2SD_se"
      },
      "execution_count": null,
      "outputs": []
    }
  ]
}
